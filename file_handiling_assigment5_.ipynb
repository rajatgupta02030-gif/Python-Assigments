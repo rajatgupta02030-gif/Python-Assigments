{
  "nbformat": 4,
  "nbformat_minor": 0,
  "metadata": {
    "colab": {
      "provenance": []
    },
    "kernelspec": {
      "name": "python3",
      "display_name": "Python 3"
    },
    "language_info": {
      "name": "python"
    }
  },
  "cells": [
    {
      "cell_type": "markdown",
      "source": [
        "#***Files, exceptional handling, logging and memory management***"
      ],
      "metadata": {
        "id": "_EhXAleYHJyN"
      }
    },
    {
      "cell_type": "markdown",
      "source": [
        "#Q1 What is the difference between interpreted and compiled languages?\n",
        "\n",
        "* Compiled language > Source code is translated entirely into machine code by a compiler before it is run. The resulting machine code is then run directly by the system.Examples: C, C++.\n",
        "\n",
        "* interpreted language > Source code is read and executed line-by-line by an interpreter at runtime.No separate machine code file is created; the interpreter runs the code directly.Examples: Python, JavaScript.\n",
        "\n",
        "#Q2. What is exception handling in Python?\n",
        "\n",
        "* Exception handling in Python is a way to gracefully handle errors that occur during the execution of a program, so your program doesn't crash unexpectedly.\n",
        "    \n",
        "    **Types of some error**\n",
        "* File not exist\n",
        "* File not found error\n",
        "* Type error\n",
        "* Division by 0 error\n",
        "\n",
        "#Q3.What is the purpose of the finally block in exception handling?\n",
        "\n",
        "- The finally block is used to ensure that certain code always runs, no matter what happens — whether an exception was raised or not."
      ],
      "metadata": {
        "id": "ZpyrOm3yAz1v"
      }
    },
    {
      "cell_type": "code",
      "source": [
        "try:\n",
        "    x = int(input(\"Enter a number: \"))\n",
        "    y = 10 / x\n",
        "except ValueError:\n",
        "    print(\"Invalid input: not a number.\")\n",
        "finally:\n",
        "  print(\"done\")"
      ],
      "metadata": {
        "colab": {
          "base_uri": "https://localhost:8080/"
        },
        "id": "EqEzwnGrDrw9",
        "outputId": "8c75e03a-5325-4b09-bb5f-016e5ae0aa2a"
      },
      "execution_count": 3,
      "outputs": [
        {
          "output_type": "stream",
          "name": "stdout",
          "text": [
            "Enter a number: 10\n",
            "done\n"
          ]
        }
      ]
    },
    {
      "cell_type": "markdown",
      "source": [
        "#Q4. What is logging in Python?\n",
        "\n",
        "- Logging in Python is a way to track events that happen while your program runs. It helps you debug, monitor, and understand your program’s behavior without using print statements.Logging is a better alternative to print() for tracking program events"
      ],
      "metadata": {
        "id": "KqC2pGcCEN9E"
      }
    },
    {
      "cell_type": "code",
      "source": [
        "import logging\n",
        "logging.basicConfig(filename=\"xyx.txt\",level=logging.INFO)"
      ],
      "metadata": {
        "id": "WkD2cOpCEdYY"
      },
      "execution_count": 4,
      "outputs": []
    },
    {
      "cell_type": "markdown",
      "source": [
        "#Q5. What is the significance of the `__del__` method in Python?\n",
        "\n",
        "- The `__del__`  method is a special method in Python called a destructor.\n",
        "\n",
        "- It is automatically invoked when an object is about to be destroyed —\n",
        " i.e., when it is garbage collected.\n",
        "\n",
        "#Q6. What is the difference between import and from ... import in Python?\n",
        "\n",
        "- Both import and from ... import are used to bring external modules or functions into your Python script, but they work differently.\n",
        "\n",
        "- Use import when you want the whole module and clear, prefixed access.\n",
        "- Use from ... import when you only need specific parts and want cleaner code."
      ],
      "metadata": {
        "id": "qucKt6PpEuTV"
      }
    },
    {
      "cell_type": "code",
      "source": [
        "from abc import abstractclassmethod"
      ],
      "metadata": {
        "id": "h7GojHKUFt9m"
      },
      "execution_count": 5,
      "outputs": []
    },
    {
      "cell_type": "markdown",
      "source": [
        "#Q7 How can you handle multiple exceptions in Python?\n",
        "\n",
        "- In Python, you can handle multiple exceptions using multiple except blocks, or by grouping exceptions in a single block.\n",
        "\n"
      ],
      "metadata": {
        "id": "J7nz0b8gF0kg"
      }
    },
    {
      "cell_type": "code",
      "source": [
        "try:\n",
        "    x = int(input(\"Enter a number: \"))\n",
        "    y = 10 / x\n",
        "except ValueError:\n",
        "    print(\"Invalid input: not a number.\")\n",
        "except ZeroDivisionError:\n",
        "    print(\"You can't divide by zero.\")"
      ],
      "metadata": {
        "colab": {
          "base_uri": "https://localhost:8080/"
        },
        "id": "Wq95PyAZGE59",
        "outputId": "b17092a0-2eca-4bf7-ff03-85040732fff7"
      },
      "execution_count": 6,
      "outputs": [
        {
          "name": "stdout",
          "output_type": "stream",
          "text": [
            "Enter a number: 10\n"
          ]
        }
      ]
    },
    {
      "cell_type": "markdown",
      "source": [
        "#Q8. What is the purpose of the with statement when handling files in Python?\n",
        "\n",
        "Ans8. The with statement in Python is used to simplify file handling by automatically opening and closing files — even if an error occurs."
      ],
      "metadata": {
        "id": "oDjujAxCGzH3"
      }
    },
    {
      "cell_type": "code",
      "source": [
        "file= open(\"file.txt\",\"w\")\n",
        "file.write(\"rajat\")\n",
        "file.close()"
      ],
      "metadata": {
        "id": "GNyEKyl3G8j1"
      },
      "execution_count": 12,
      "outputs": []
    },
    {
      "cell_type": "markdown",
      "source": [
        "#Q9 What is the difference between multithreading and multiprocessing?\n",
        "\n",
        "- multithreading:\n",
        "   -  Runs multiple threads (smaller tasks) within the same process\n",
        "    - Threads share the same memory space."
      ],
      "metadata": {
        "id": "VklTZCE9JVIY"
      }
    },
    {
      "cell_type": "code",
      "source": [
        "import threading\n",
        "\n",
        "def task():\n",
        "    print(\"Run\")\n",
        "\n",
        "t = threading.Thread(target=task)\n",
        "t.start()"
      ],
      "metadata": {
        "colab": {
          "base_uri": "https://localhost:8080/"
        },
        "id": "AAT9hXsjJeKU",
        "outputId": "874ea2e9-0720-4d00-89f2-c06cc9a8aed5"
      },
      "execution_count": 18,
      "outputs": [
        {
          "output_type": "stream",
          "name": "stdout",
          "text": [
            "Run\n"
          ]
        }
      ]
    },
    {
      "cell_type": "markdown",
      "source": [
        "-  multiprocessing:\n",
        "   - Runs multiple processes, each with its own memory Bypasses the GIL, so tasks run in parallel."
      ],
      "metadata": {
        "id": "Wepf1gUVJlkY"
      }
    },
    {
      "cell_type": "code",
      "source": [
        "import multiprocessing\n",
        "\n",
        "def task():\n",
        "    print(\"Run\")\n",
        "\n",
        "p = multiprocessing.Process(target=task)\n",
        "p.start()\n"
      ],
      "metadata": {
        "id": "WMHDjBDEJrqn"
      },
      "execution_count": 17,
      "outputs": []
    },
    {
      "cell_type": "markdown",
      "source": [
        "#Q10 What are the advantages of using logging in a program?\n",
        "\n",
        "1. Helps Debugging:\n",
        "Logging records detailed information about what the program is doing, making it easier to find and fix problems.\n",
        "\n",
        "2. Keeps a Permanent Record:\n",
        "Logs can be saved to files, so you can review program activity even after it has finished running.\n",
        "\n",
        "3. Provides Different Levels of Messages:\n",
        "You can categorize logs by importance (e.g., INFO, WARNING, ERROR), helping you focus on what matters most.\n",
        "\n",
        "4. Better than Print Statements:\n",
        "Unlike print, logging can be turned on or off and can be configured to output to different places (files, consoles, etc.).\n",
        "\n",
        "#Q11. What is memory management in Python?\n",
        "\n",
        "-  Memory management in Python refers to how the language allocates, uses, and frees up memory while your program runs.\n",
        "\n",
        "#Q12 What are the basic steps involved in exception handling in Python?\n",
        "\n",
        "- Exception handling in Python is about managing errors so your program doesn’t crash unexpectedly:\n",
        "\n",
        ">try: Put the code that might cause an error inside a try block.\n",
        "~~~\n",
        "try:\n",
        "  print(10/0)\n",
        "~~~\n",
        ">Catch Exceptions with except: Each except handles a specific type of error\n",
        "~~~\n",
        "except Exception as e:\n",
        "      print(\"error is\",e)\n",
        "~~~\n",
        "> finally: Use finally Block\n",
        "~~~\n",
        "finally:\n",
        "  print(\"this will run the code\")\n",
        "~~~\n",
        "all together:\n",
        "~~~\n",
        "try:\n",
        "  print(10/0)\n",
        "except ZeroDivisionError as e:\n",
        "  print(\"error is:\",e)\n",
        "finally:\n",
        "  print(\"this will run the code\")\n",
        "~~~\n",
        "\n",
        "#Q13. Why is memory management important in Python?\n",
        "\n",
        "- Memory management is important in Python because it helps ensure that your programs run efficiently and reliably.Memory management in Python is crucial because it keeps your program fast, stable, and resource-friendly by automatically managing how memory is used and freed.\n",
        "\n",
        "#Q14. is the role of try and except in exception handling?**\n",
        "\n",
        "Ans14.\n",
        "- try: Put the code that might cause an error inside a try block.\n",
        "- Catch Exceptions with except: Each except handles a specific type of error\n"
      ],
      "metadata": {
        "id": "Azz7Cm98KRZ_"
      }
    },
    {
      "cell_type": "code",
      "source": [
        "try:\n",
        "  print(10/0)\n",
        "except ZeroDivisionError as e:\n",
        "  print(\"error is:\",e)\n",
        "finally:\n",
        "  print(\"this will run the code\")"
      ],
      "metadata": {
        "colab": {
          "base_uri": "https://localhost:8080/"
        },
        "id": "WGySt5RSMY3L",
        "outputId": "edd950f4-eb31-44ba-b605-651dfb070fee"
      },
      "execution_count": 21,
      "outputs": [
        {
          "output_type": "stream",
          "name": "stdout",
          "text": [
            "error is: division by zero\n",
            "this will run the code\n"
          ]
        }
      ]
    },
    {
      "cell_type": "markdown",
      "source": [
        "#Q15. How does Python's garbage collection system work?\n",
        "\n",
        "- Python’s garbage collection (GC) system automatically manages memory by removing objects that are no longer needed so that memory can be reused."
      ],
      "metadata": {
        "id": "pKslhe_kMiBI"
      }
    },
    {
      "cell_type": "markdown",
      "source": [
        "#Q16. What is the purpose of the else block in exception handling?\n",
        "\n",
        "- The else block in Python exception handling is used to run code only if no exceptions were raised in the try block."
      ],
      "metadata": {
        "id": "2OT8zo2QMy39"
      }
    },
    {
      "cell_type": "code",
      "source": [
        "try:\n",
        "    result = 10 / 2\n",
        "except ZeroDivisionError:\n",
        "    print(\"Cannot divide by zero.\")\n",
        "else:\n",
        "    print(\"Division successful! Result is\", result)"
      ],
      "metadata": {
        "colab": {
          "base_uri": "https://localhost:8080/"
        },
        "id": "m6NVImD9M8uH",
        "outputId": "d60f7dd1-682f-43e7-dd67-009f42ba3136"
      },
      "execution_count": 22,
      "outputs": [
        {
          "output_type": "stream",
          "name": "stdout",
          "text": [
            "Division successful! Result is 5.0\n"
          ]
        }
      ]
    },
    {
      "cell_type": "markdown",
      "source": [
        "#Q17. What are the common logging levels in Python ?\n",
        "\n",
        "- Python’s logging module provides different logging levels to indicate the\n",
        "mportance of messages.\n",
        "\n",
        "- DEBUG: For detailed troubleshooting info\n",
        "\n",
        "- INFO: General operational messages\n",
        "\n",
        "- WARNING: Alerts about potential issues\n",
        "\n",
        "- ERROR: Serious problems that affect functionality\n",
        "\n",
        "- CRITICAL: Very severe errors causing program failure\n",
        "\n",
        "#Q18. What is the difference between os.fork() and multiprocessing in Python ?\n",
        "\n",
        "-  os.fork():A low-level function available on Unix/Linux systems only.\n",
        "It creates a child process by duplicating the current process.\n",
        "Both parent and child processes continue running from the same point in the code.\n",
        "\n",
        "-  Multiprocessing Module:A high-level Python module for creating and managing separate processes.Works on all platforms (Windows, macOS, Linux).\n",
        "Provides easy-to-use classes like Process, Queue, Pool, etc.\n",
        "\n",
        "#Q19.  What is the importance of closing a file in Python?\n",
        "\n",
        "- Closing a file in Python is important to ensure that your program uses system resources properly and does not lose data.\n",
        "\n",
        "#Q20 What is the difference between file.read() and file.readline() in Python0\n",
        "\n",
        "- file.read():in this we can read the whole file in one go.\n",
        "\n"
      ],
      "metadata": {
        "id": "cLOwl3yMNCMF"
      }
    },
    {
      "cell_type": "code",
      "source": [
        "with open(\"file.txt\",\"r\")as f:\n",
        "   r=f.read()\n",
        "   print(r)"
      ],
      "metadata": {
        "colab": {
          "base_uri": "https://localhost:8080/"
        },
        "id": "LmS_8WJfOGLd",
        "outputId": "ea6d4dcb-49f2-41e1-b14a-3fbf6f82a77c"
      },
      "execution_count": 23,
      "outputs": [
        {
          "output_type": "stream",
          "name": "stdout",
          "text": [
            "rajat\n"
          ]
        }
      ]
    },
    {
      "cell_type": "markdown",
      "source": [
        "- file.readline: in this we can read first line of our file."
      ],
      "metadata": {
        "id": "5tpjACodOUib"
      }
    },
    {
      "cell_type": "code",
      "source": [
        "with open(\"file.txt\",\"r\")as f:\n",
        "   r=f.readline()\n",
        "   print(r)"
      ],
      "metadata": {
        "colab": {
          "base_uri": "https://localhost:8080/"
        },
        "id": "0G1tmG93OV8N",
        "outputId": "b74140ca-4fca-400d-b63d-392a31941e54"
      },
      "execution_count": 24,
      "outputs": [
        {
          "output_type": "stream",
          "name": "stdout",
          "text": [
            "rajat\n"
          ]
        }
      ]
    },
    {
      "cell_type": "markdown",
      "source": [
        "#Q21. What is the logging module in Python used for.\n",
        "\n",
        "- The logging module in Python is used to record messages that describe events happening in your program.\n",
        "- It helps you track errors, monitor performance, and understand how your code is running — without using print() statements.\n",
        "\n",
        "#Q22. What is the os module in Python used for in file handling?\n",
        "\n",
        "- The os module is used to interact with the operating system. In file handling, it helps with:\n",
        "\n",
        "  - Checking if files or directories exist: os.path.exists()\n",
        "\n",
        "   - Creating directories: os.mkdir(), os.makedirs()\n",
        "\n",
        "  - Listing contents of directories: os.listdir()\n",
        "\n",
        "  - Deleting files or directories: os.remove(), os.rmdir()\n",
        "\n",
        "  - Renaming or moving files: os.rename()\n",
        "\n",
        "  - setting the current working directory: os.getcwd(), os.chdir()\n",
        "\n",
        "  - Building platform-independent file paths: os.path.join()\n",
        "\n",
        "#Q23. What are the challenges associated with memory management in Python?\n",
        "\n",
        "- Poor memory management can lead to various issues such as memory leaks, fragmentation, excessive paging, and crashes, which indirectly degrade system performance and stability.\n",
        "\n",
        "#Q24 How do you raise an exception manually in Python ?\n",
        "\n",
        "- In Python, we can raise an exception manually using the raise keyword.\n",
        "~~~\n",
        "class MyCustomError(Exception):\n",
        "    pass\n",
        "\n",
        "raise MyCustomError(\"Something custom went wrong\")\n",
        "~~~\n",
        "\n",
        "#Q25. Why is it important to use multithreading in certain applications?\n",
        "\n",
        "**Multithreading is important in certain applications for several reasons:**\n",
        "\n",
        "- **Improved Responsiveness:** In applications with user interfaces or network operations, multithreading can prevent the application from freezing while waiting for a task to complete. One thread can handle the long-running task while another thread keeps the UI responsive.\n",
        "\n",
        "- **Better Resource Utilization:** For I/O-bound tasks (tasks that spend a lot of time waiting for input/output operations, like reading from a file or network), multithreading allows the CPU to switch to another thread while one thread is waiting. This makes better use of available resources.\n",
        "\n",
        "- **Simplified Design for Concurrent Tasks:** When an application needs to perform multiple tasks concurrently (like handling multiple client connections in a server), using separate threads for each task can simplify the program's structure and make it easier to manage.\n",
        "\n",
        "- **Parallelism (in some cases):** Although Python's Global Interpreter Lock (GIL) limits true parallel execution of CPU-bound tasks in multiple threads on multi-core processors, multithreading can still provide a form of concurrency that is beneficial for I/O-bound operations. In other languages without a GIL, multithreading can achieve true parallelism for CPU-bound tasks\n"
      ],
      "metadata": {
        "id": "VA6tLWJuOkON"
      }
    },
    {
      "cell_type": "markdown",
      "source": [
        "#Practical Questions"
      ],
      "metadata": {
        "id": "uyrXTfSdTmxU"
      }
    },
    {
      "cell_type": "code",
      "source": [
        "# Q1. How can you open a file for writing in Python and write a string to it?\n",
        "file = open(\"file.txt\",\"w\")\n",
        "file.write(\"Hey, my name is Rajat\")\n",
        "file.write(\"\\n my hobbies playing basketball\")\n",
        "file.close()"
      ],
      "metadata": {
        "id": "wvX6OdUxXegp"
      },
      "execution_count": 6,
      "outputs": []
    },
    {
      "cell_type": "code",
      "source": [
        "#Q2 Write a Python program to read the contents of a file and print each line\n",
        "file=open(\"file.txt\",\"r\")\n",
        "print(file.read())"
      ],
      "metadata": {
        "colab": {
          "base_uri": "https://localhost:8080/"
        },
        "id": "YPYFc1CHUf4n",
        "outputId": "0c3b0dba-106b-4c0f-fe1f-b25bc23150eb"
      },
      "execution_count": 8,
      "outputs": [
        {
          "output_type": "stream",
          "name": "stdout",
          "text": [
            "Hey, my name is Rajat\n",
            " my hobbies playing basketball\n"
          ]
        }
      ]
    },
    {
      "cell_type": "code",
      "source": [
        "'''\n",
        "Q3 How would you handle a case where the file doesn't exist while trying to\n",
        "open it for reading\n",
        "'''\n",
        "try:\n",
        "  with open(\"file_test.txt\",\"r\") as f:\n",
        "    r = f.read()\n",
        "    print(r)\n",
        "except FileNotFoundError as e:\n",
        "  print(\"error is:\",e)"
      ],
      "metadata": {
        "colab": {
          "base_uri": "https://localhost:8080/"
        },
        "id": "wSJLMiOYVCOl",
        "outputId": "32183713-8c1b-41fc-d91c-776c62822991"
      },
      "execution_count": 9,
      "outputs": [
        {
          "output_type": "stream",
          "name": "stdout",
          "text": [
            "error is: [Errno 2] No such file or directory: 'file_test.txt'\n"
          ]
        }
      ]
    },
    {
      "cell_type": "code",
      "source": [
        "'''\n",
        "#Q4. Write a Python script that reads from one file and writes its content to\n",
        "another file?\n",
        "'''\n",
        "\n",
        "with open(\"file.txt\",\"r\")as f:\n",
        "  print(f.read())\n",
        "\n",
        "with open(\"file.txt\",\"r\") as firstfile:\n",
        "  with open(\"second_file.txt\",\"a\") as secondfile:\n",
        "    for line in firstfile:\n",
        "      secondfile.write(line)\n",
        "\n",
        "with open(\"second_file.txt\",\"r\")as f:\n",
        "  print(f.read())"
      ],
      "metadata": {
        "colab": {
          "base_uri": "https://localhost:8080/"
        },
        "id": "Ko4YnODLV1CU",
        "outputId": "7afe222a-08b1-429c-a854-2a9118525bb7"
      },
      "execution_count": 10,
      "outputs": [
        {
          "output_type": "stream",
          "name": "stdout",
          "text": [
            "Hey, my name is Rajat\n",
            " my hobbies playing basketball\n",
            "Hey, my name is Rajat\n",
            " my hobbies playing basketball\n"
          ]
        }
      ]
    },
    {
      "cell_type": "code",
      "source": [
        "#Q5. How would you catch and handle division by zero error in Python?\n",
        "try:\n",
        "  print(10/0)\n",
        "except ZeroDivisionError as e:\n",
        "  print(\"error is:\",e)"
      ],
      "metadata": {
        "colab": {
          "base_uri": "https://localhost:8080/"
        },
        "id": "hBSORu79WKjY",
        "outputId": "1aebc7ed-2411-4b96-8013-e16b725c9ad7"
      },
      "execution_count": 11,
      "outputs": [
        {
          "output_type": "stream",
          "name": "stdout",
          "text": [
            "error is: division by zero\n"
          ]
        }
      ]
    },
    {
      "cell_type": "code",
      "source": [
        "'''\n",
        "Q6. Write a Python program that logs an error message to a log file when\n",
        "a division by zero exception occurs?'''\n",
        "\n",
        "import logging\n",
        "logging.basicConfig(filename='error.log', level=logging.ERROR)\n",
        "\n",
        "try:\n",
        "  result = 10 / 0\n",
        "except ZeroDivisionError as e:\n",
        "  logging.error(\"Division by zero error occurred: %s\", e)\n",
        "  print(\"An error occurred and has been logged.\")"
      ],
      "metadata": {
        "colab": {
          "base_uri": "https://localhost:8080/"
        },
        "id": "JU3n2XXPWT-V",
        "outputId": "4e9c8038-1044-4c36-ce86-8b212e928ec5"
      },
      "execution_count": 12,
      "outputs": [
        {
          "output_type": "stream",
          "name": "stderr",
          "text": [
            "ERROR:root:Division by zero error occurred: division by zero\n"
          ]
        },
        {
          "output_type": "stream",
          "name": "stdout",
          "text": [
            "An error occurred and has been logged.\n"
          ]
        }
      ]
    },
    {
      "cell_type": "code",
      "source": [
        "'''\n",
        "Q7. How do you log information at different levels (INFO, ERROR, WARNING)\n",
        "in Python using the logging module?\n",
        "'''\n",
        "\n",
        "\n",
        "import logging\n",
        "logging.basicConfig(filename=\"test_log.txt\",level=logging.INFO)\n",
        "\n",
        "logging.info(\"this is info message\")\n",
        "logging.error(\"this is error message\")\n",
        "logging.warning(\"this is last warning\")\n",
        "\n",
        "logging.shutdown()\n"
      ],
      "metadata": {
        "colab": {
          "base_uri": "https://localhost:8080/"
        },
        "id": "dSQNfBOWWnZI",
        "outputId": "ea7b1bed-37df-40c0-e25f-f38924414e5a"
      },
      "execution_count": 13,
      "outputs": [
        {
          "output_type": "stream",
          "name": "stderr",
          "text": [
            "ERROR:root:this is error message\n",
            "WARNING:root:this is last warning\n"
          ]
        }
      ]
    },
    {
      "cell_type": "code",
      "source": [
        "#Q8.  Write a program to handle a file opening error using exception handling?\n",
        "\n",
        "try:\n",
        "  with open(\"test.txt\",\"r\") as f:\n",
        "    r = f.read()\n",
        "    print(r)\n",
        "except FileNotFoundError as e:\n",
        "  print(\"error is:\",e)"
      ],
      "metadata": {
        "colab": {
          "base_uri": "https://localhost:8080/"
        },
        "id": "cAv0TF7KW0kX",
        "outputId": "1aebab81-c7fa-41ab-af8c-6ea59132718a"
      },
      "execution_count": 14,
      "outputs": [
        {
          "output_type": "stream",
          "name": "stdout",
          "text": [
            "error is: [Errno 2] No such file or directory: 'test.txt'\n"
          ]
        }
      ]
    },
    {
      "cell_type": "code",
      "source": [
        "#Q9. How can you read a file line by line and store its content in a list in Python?\n",
        "file= open(\"file.txt\",\"r\")\n",
        "file.readlines()\n"
      ],
      "metadata": {
        "colab": {
          "base_uri": "https://localhost:8080/"
        },
        "id": "4DNV3RrfW6py",
        "outputId": "e9945892-a15e-4ecd-a150-1ab3b064bc0a"
      },
      "execution_count": 15,
      "outputs": [
        {
          "output_type": "execute_result",
          "data": {
            "text/plain": [
              "['Hey, my name is Rajat\\n', ' my hobbies playing basketball']"
            ]
          },
          "metadata": {},
          "execution_count": 15
        }
      ]
    },
    {
      "cell_type": "code",
      "source": [
        "#Q10 How can you append data to an existing file in Python\n",
        "file=open(\"file.txt\",\"a\")\n",
        "file.write(\"\\n i love to play games also\")\n",
        "file.close()"
      ],
      "metadata": {
        "id": "KYdnKYNMXUmb"
      },
      "execution_count": 17,
      "outputs": []
    },
    {
      "cell_type": "code",
      "source": [
        "'''\n",
        "Q11. Write a Python program that uses a try-except block to handle an error when\n",
        " attempting to access a dictionary key that doesn't exist?\n",
        " '''\n",
        "try:\n",
        " data={\"name\":\"divya\",\"course\":\"DA\"}\n",
        " print(data[\"age\"])\n",
        "except KeyError as e:\n",
        "  print(\"here there is no key:\",e)"
      ],
      "metadata": {
        "colab": {
          "base_uri": "https://localhost:8080/"
        },
        "id": "NcB9L4kmYQxe",
        "outputId": "fa0a0c7a-a64b-44e8-ed74-ceb0429dec07"
      },
      "execution_count": 18,
      "outputs": [
        {
          "output_type": "stream",
          "name": "stdout",
          "text": [
            "here there is no key: 'age'\n"
          ]
        }
      ]
    },
    {
      "cell_type": "code",
      "source": [
        "'''\n",
        "Q12. Write a program that demonstrates using multiple except blocks to\n",
        "handle different types of exceptions?\n",
        "'''\n",
        "try:\n",
        "  x=int(input(\"enter a number:\"))\n",
        "  print(10/x)\n",
        "\n",
        "except ZeroDivisionError as e:\n",
        "  print(\"error is:\",e)\n",
        "except ValueError as e:\n",
        "  print(\"error is:\",e)"
      ],
      "metadata": {
        "colab": {
          "base_uri": "https://localhost:8080/"
        },
        "id": "EkD0VaOqYgME",
        "outputId": "b95ee296-b185-4169-d25c-d93ee105908c"
      },
      "execution_count": 20,
      "outputs": [
        {
          "output_type": "stream",
          "name": "stdout",
          "text": [
            "enter a number:rajat\n",
            "error is: invalid literal for int() with base 10: 'rajat'\n"
          ]
        }
      ]
    },
    {
      "cell_type": "code",
      "source": [
        "#Q13 How would you check if a file exists before attempting to read it in Python?\n",
        "import os\n",
        "if os.path.exists(\"file.txt\"):\n",
        "  print(\"file exixts:\")\n",
        "  with open(\"file.txt\",\"r\")as f:\n",
        "    r=f.read()\n",
        "    print(r)\n",
        "else:\n",
        "  print(\"file not found\")\n"
      ],
      "metadata": {
        "colab": {
          "base_uri": "https://localhost:8080/"
        },
        "id": "tj4DXeccY7WE",
        "outputId": "700c42af-07fd-43e0-f810-21803a11de92"
      },
      "execution_count": 21,
      "outputs": [
        {
          "output_type": "stream",
          "name": "stdout",
          "text": [
            "file exixts:\n",
            "Hey, my name is Rajat\n",
            " my hobbies playing basketball/n i love to play games also\n",
            " i love to play games also\n"
          ]
        }
      ]
    },
    {
      "cell_type": "code",
      "source": [
        "#Q14.  Write a program that uses the logging module to log both informational and error messages?\n",
        "import logging\n",
        "logging.basicConfig(filename=\"error.log\",level=logging.INFO)\n",
        "\n",
        "logging.info(\"this is informational message\")\n",
        "logging.error(\"this is error message\")\n",
        "\n",
        "logging.shutdown()"
      ],
      "metadata": {
        "colab": {
          "base_uri": "https://localhost:8080/"
        },
        "id": "5Mg4hWuRZIXp",
        "outputId": "7162751f-953d-4843-dec4-6c6c378d43a2"
      },
      "execution_count": 22,
      "outputs": [
        {
          "output_type": "stream",
          "name": "stderr",
          "text": [
            "ERROR:root:this is error message\n"
          ]
        }
      ]
    },
    {
      "cell_type": "code",
      "source": [
        "'''Q15. Write a Python program that prints the content of a file and handles\n",
        "the case when the file is empty?'''\n",
        "\n",
        "with open(\"empty.txt\",\"w\")as f:\n",
        " f.write(\"\")\n",
        "\n",
        "size = os.path.getsize(\"empty.txt\")\n",
        "\n",
        "if size==0:\n",
        "  print(\"file is empty\")\n",
        "else:\n",
        "  with open(\"empty.txt\",\"r\")as f:\n",
        "    r=f.read()\n",
        "    print(r)"
      ],
      "metadata": {
        "colab": {
          "base_uri": "https://localhost:8080/"
        },
        "id": "cRNOO4fTZOmd",
        "outputId": "0234280e-ad69-4eff-bfe0-4fb9f3002233"
      },
      "execution_count": 23,
      "outputs": [
        {
          "output_type": "stream",
          "name": "stdout",
          "text": [
            "file is empty\n"
          ]
        }
      ]
    },
    {
      "cell_type": "code",
      "source": [
        "#Q16. Demonstrate how to use memory profiling to check the memory usage of a small program?\n",
        "\n",
        "from memory_profiler import profile\n",
        "\n",
        "@profile\n",
        "def my_function():\n",
        "    a = [1] * 10\n",
        "    b = [2] * 20\n",
        "    return a, b\n",
        "\n",
        "my_function()"
      ],
      "metadata": {
        "id": "iQKkhMwHG4g8"
      },
      "execution_count": null,
      "outputs": []
    },
    {
      "cell_type": "code",
      "source": [
        "#Q17.  Write a Python program to create and write a list of numbers to a file, one number per line\n",
        "\n",
        "data=[1,2,3,4,5,6]\n",
        "import csv\n",
        "\n",
        "with open(\"file_csv.csv\",\"w\")as f:\n",
        "  writer=csv.writer(f)\n",
        "  for num in data:\n",
        "   writer.writerow([num])\n",
        "\n",
        "with open(\"file_csv.csv\",\"r\")as f:\n",
        "  reader=csv.reader(f)\n",
        "  for row in reader:\n",
        "    print(row)"
      ],
      "metadata": {
        "colab": {
          "base_uri": "https://localhost:8080/"
        },
        "id": "FACmCxP0bWUB",
        "outputId": "f52e59a6-f4c2-4d05-ce41-1f784099a0d7"
      },
      "execution_count": 3,
      "outputs": [
        {
          "output_type": "stream",
          "name": "stdout",
          "text": [
            "['1']\n",
            "['2']\n",
            "['3']\n",
            "['4']\n",
            "['5']\n",
            "['6']\n"
          ]
        }
      ]
    },
    {
      "cell_type": "code",
      "source": [
        "#Q18. How would you implement a basic logging setup that logs to a file with rotation after 1MB?\n",
        "\n",
        "import logging\n",
        "from logging.handlers import RotatingFileHandler\n",
        "\n",
        "logging.basicConfig(filename=\"test_log.txt\",level=logging.INFO)\n",
        "\n",
        "logging.info(\"this is info message\")\n",
        "logging.error(\"this is error message\")\n",
        "logging.warning(\"this is last warning\")\n",
        "\n",
        "logging.shutdown()"
      ],
      "metadata": {
        "colab": {
          "base_uri": "https://localhost:8080/"
        },
        "id": "YF3GVzT8bmE9",
        "outputId": "4fae3ead-e2f1-4e83-9dd3-1c9b1c3a51b4"
      },
      "execution_count": 4,
      "outputs": [
        {
          "output_type": "stream",
          "name": "stderr",
          "text": [
            "ERROR:root:this is error message\n",
            "WARNING:root:this is last warning\n"
          ]
        }
      ]
    },
    {
      "cell_type": "code",
      "source": [
        "#Q19. Write a program that handles both IndexError and KeyError using a try-except block?\n",
        "try:\n",
        "  dic={\"name\":\"divya\",\"age\":20}\n",
        "  dic[\"course\"]\n",
        "  l1=[1,2,3,4]\n",
        "  l1[5]\n",
        "except (KeyError,IndexError) as e:\n",
        "  print(\"error is:\",e)\n"
      ],
      "metadata": {
        "colab": {
          "base_uri": "https://localhost:8080/"
        },
        "id": "v8hPaVLJb0_8",
        "outputId": "207f18a0-2e5b-4584-e21a-db6eccfc453a"
      },
      "execution_count": 5,
      "outputs": [
        {
          "output_type": "stream",
          "name": "stdout",
          "text": [
            "error is: 'course'\n"
          ]
        }
      ]
    },
    {
      "cell_type": "code",
      "source": [
        "#Q20. How would you open a file and read its contents using a context manager in Python?\n",
        "with open(\"file.txt\",\"r\")as f:\n",
        "  r=f.read()\n",
        "  print(r)"
      ],
      "metadata": {
        "colab": {
          "base_uri": "https://localhost:8080/"
        },
        "id": "KyuXwDmvb8h0",
        "outputId": "8500e7f0-873e-4e8e-9aa0-af0a027d1217"
      },
      "execution_count": 6,
      "outputs": [
        {
          "output_type": "stream",
          "name": "stdout",
          "text": [
            "Hey, my name is Rajat\n",
            " my hobbies playing basketball/n i love to play games also\n",
            " i love to play games also\n"
          ]
        }
      ]
    },
    {
      "cell_type": "code",
      "source": [
        "#Q21. Write a Python program that reads a file and prints the number of occurrences of a specific word?\n",
        "\n",
        "with open(\"file.txt\",\"r\")as f:\n",
        "  r=f.read()\n",
        "  print(r.count(\"Rajat\"))"
      ],
      "metadata": {
        "colab": {
          "base_uri": "https://localhost:8080/"
        },
        "id": "Uf4VTdXrcEaV",
        "outputId": "4587a54c-f634-44cb-96e0-a762f409c4f1"
      },
      "execution_count": 8,
      "outputs": [
        {
          "output_type": "stream",
          "name": "stdout",
          "text": [
            "1\n"
          ]
        }
      ]
    },
    {
      "cell_type": "code",
      "source": [
        "#Q22. How can you check if a file is empty before attempting to read its contents?\n",
        "import os\n",
        "size = os.path.getsize(\"file.txt\")\n",
        "\n",
        "if size==0:\n",
        "  print(\"file is empty\")\n",
        "else:\n",
        "  with open(\"file.txt\",\"r\")as f:\n",
        "    r=f.read()\n",
        "    print(\"this file is not empty:\\n\",r)\n"
      ],
      "metadata": {
        "colab": {
          "base_uri": "https://localhost:8080/"
        },
        "id": "23b4gpIPcWLR",
        "outputId": "88253ad6-9bac-493e-e30c-ba40096c6454"
      },
      "execution_count": 9,
      "outputs": [
        {
          "output_type": "stream",
          "name": "stdout",
          "text": [
            "this file is not empty:\n",
            " Hey, my name is Rajat\n",
            " my hobbies playing basketball/n i love to play games also\n",
            " i love to play games also\n"
          ]
        }
      ]
    },
    {
      "cell_type": "code",
      "source": [
        "#Q23. Write a Python program that writes to a log file when an error occurs during file handling.\n",
        "try:\n",
        "    with open(\"data.txt\", \"r\") as file:\n",
        "        c = file.read()\n",
        "        print(c)\n",
        "\n",
        "except Exception as e:\n",
        "    with open(\"error_log.txt\", \"a\") as log_file:\n",
        "        log_file.write(f\"Error: {str(e)}\\n\")\n",
        "\n",
        "# output:\n",
        "# Error: [Errno 2] No such file or directory: 'data.txt'"
      ],
      "metadata": {
        "id": "N6FQJhVDchwy"
      },
      "execution_count": 10,
      "outputs": []
    }
  ]
}