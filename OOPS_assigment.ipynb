{
  "nbformat": 4,
  "nbformat_minor": 0,
  "metadata": {
    "colab": {
      "provenance": []
    },
    "kernelspec": {
      "name": "python3",
      "display_name": "Python 3"
    },
    "language_info": {
      "name": "python"
    }
  },
  "cells": [
    {
      "cell_type": "markdown",
      "source": [
        "#Q1 What is Object-Oriented Programming (OOP)?\n",
        "- Object-Oriented Programming (OOP) is a programming paradigm that organizes code into objects containing data (attributes) and behavior (methods). It focuses on real-world modeling using concepts like encapsulation, inheritance, polymorphism, and abstraction to make code reusable, modular, and easier to maintain.\n",
        "\n",
        "#Q2 What is a class in OOP?\n",
        "- In OOP, a class is a blueprint or template for creating objects. It defines the attributes (data/variables) and methods (functions/behaviors) that the objects created from it will have.\n",
        "\n",
        "**For Example**"
      ],
      "metadata": {
        "id": "bwh--iLNv5QO"
      }
    },
    {
      "cell_type": "code",
      "source": [
        "class Students:\n",
        "    # attributes (variables)\n",
        "\n",
        "    # methods (functions)\n",
        "    def method_name(self, parameters):\n",
        "        # code block\n",
        "        pass"
      ],
      "metadata": {
        "id": "hdXUBCgK0GRB"
      },
      "execution_count": null,
      "outputs": []
    },
    {
      "cell_type": "markdown",
      "source": [
        "#Q3 What is an object in OOP?\n",
        "- In OOP, an object is an instance of a class. It represents a real-world entity that has its own data (attributes) and can perform actions (methods) defined in the class."
      ],
      "metadata": {
        "id": "GFbf2kxV0cwH"
      }
    },
    {
      "cell_type": "code",
      "source": [
        "class Student:\n",
        "  def __init__(self, name, age):\n",
        "        self.name = name\n",
        "        self.age = age\n",
        "\n",
        "  def display(self):\n",
        "    print(f\"Name is {self.name} and age is {self.age}\")\n",
        "\n",
        "# Creating objects\n",
        "student1 = Student(\"Rajat\", \"29\")   # object 1\n",
        "student2 = Student(\"Rohit\", \"28\")          # object 2\n",
        "\n",
        "student1.display()\n",
        "student2.display()"
      ],
      "metadata": {
        "colab": {
          "base_uri": "https://localhost:8080/"
        },
        "id": "xJRkTaHe09e7",
        "outputId": "99dc6b93-3ff5-4a2c-bb99-4d03465aff4e"
      },
      "execution_count": null,
      "outputs": [
        {
          "output_type": "stream",
          "name": "stdout",
          "text": [
            "Name is Rajat and age is 29\n",
            "Name is Rohit and age is 28\n"
          ]
        }
      ]
    },
    {
      "cell_type": "markdown",
      "source": [
        "#Q4 What is the difference between abstraction and encapsulation?\n",
        "\n",
        "**Definition:**\n",
        "\n",
        "- Abstraction: Hides implementation details and shows only the essential features.\n",
        "\n",
        "- Encapsulation: Hides data by bundling variables and methods inside a class.\n",
        "\n",
        "**Focus:**\n",
        "- Abstraction: Focuses on what an object does.\n",
        "\n",
        "- Encapsulation: Focuses on how data is accessed and protected.\n",
        "\n",
        "**Achieved By:**\n",
        "- Abstraction: Through abstract classes and interfaces.\n",
        "\n",
        "- Encapsulation: Through access modifiers (public, private, protected).\n",
        "\n",
        "**Purpose:**\n",
        "- Abstraction: To reduce complexity for the user.\n",
        "\n",
        "- Encapsulation: To ensure security and controlled access to data.\n",
        "\n",
        "**Example:**\n",
        "- Abstraction: A driver presses brake/accelerator without knowing engine details.\n",
        "\n",
        "- Encapsulation: The engine’s internal data is hidden but controlled via methods.\n",
        "\n",
        "\n",
        "#Q5.What are dunder methods in Python?\n",
        "\n",
        "- Dunder methods in Python (short for Double UNDERSCORE methods) are special built-in methods that begin and end with double underscores (methodname). They are also called magic methods and are used to define the behavior of objects for built-in operations.\n",
        "\n",
        "  - Start with __ and end with __ (example: init, str, len).\n",
        "\n",
        "  - They are automatically called by Python in certain situations.\n",
        "\n",
        "  - Help in operator overloading and customizing object behavior\n",
        "\n",
        "#Q6.Explain the concept of inheritance in OOP?\n",
        "\n",
        "- Inheritance in OOP is a concept where one class (called the child class or derived class) can reuse the properties and methods of another class (called the parent class or base class).\n",
        "\n",
        "- It allows code reusability, extensibility, and helps build a hierarchy of classes.\n",
        "\n",
        "**Key Points:**\n",
        "\n",
        "- Parent/Base Class\n",
        "   - The class whose features are inherited.\n",
        "\n",
        "- Child/Derived Class  \n",
        "    - The class that inherits from the parent.\n",
        "\n",
        "- A child class can also have its own additional properties and methods\n",
        "- We use __super__  for used the function.\n",
        "\n",
        "#Q7.What is polymorphism in OOP?\n",
        "\n",
        "- Polymorphism in OOP is the ability of an object to take many forms. It allows different classes to be treated through the same interface, and the same operation can behave differently based on the object calling it.\n",
        "\n",
        "- Enables code flexibility and reusability that is achieved via method overloading, method overriding, and operator overloading."
      ],
      "metadata": {
        "id": "n7DgfmH_4S2c"
      }
    },
    {
      "cell_type": "code",
      "source": [
        "class Fruit:\n",
        "    def sweet(self):\n",
        "        print(\"fruits was very tasty\")\n",
        "\n",
        "class Orange(Fruit):\n",
        "    def sweet(self):  # Overriding parent method\n",
        "        print(\"tasty\")\n",
        "\n",
        "class Apple(Fruit):\n",
        "    def sweet(self):\n",
        "        print(\"yummy\")\n",
        "\n",
        "# Using same interface\n",
        "Fruits = [Orange(), Apple()]\n",
        "for Fruit in Fruits:\n",
        "   Fruit.sweet()"
      ],
      "metadata": {
        "colab": {
          "base_uri": "https://localhost:8080/"
        },
        "id": "lQy9Z6De8H-N",
        "outputId": "1b8853c3-8992-4738-e759-b7c378d28452"
      },
      "execution_count": null,
      "outputs": [
        {
          "output_type": "stream",
          "name": "stdout",
          "text": [
            "tasty\n",
            "yummy\n"
          ]
        }
      ]
    },
    {
      "cell_type": "markdown",
      "source": [
        "#Q8 How is encapsulation achieved in Python?\n",
        "\n",
        " - Encapsulation in Python is achieved by restricting access to the internal data of a class and providing controlled access through methods.\n",
        "\n",
        " **Key Points:**\n",
        "\n",
        "  \n",
        "  - Hides the internal details of an object to prevent unauthorized access.\n",
        "  - Uses access modifiers to define visibility:\n",
        "\n",
        "    - Public (variable) → Accessible from anywhere.\n",
        "\n",
        "     -  Protected (_variable) → Should not be accessed directly outside the class (convention).\n",
        "\n",
        "      - Private (__variable) → Not accessible directly from outside the class.\n",
        "    \n",
        "#Q9 What is a constructor in Python?\n",
        "\n",
        " - A constructor in Python is a special method used to initialize an object’s attributes when the object is created.\n",
        "\n",
        " **Key Points:**\n",
        "\n",
        " -  Always named init().\n",
        " - Automatically called when an object is created.\n",
        " - Can take parameters to initialize object properties.\n",
        " - Helps in setting default values for object attributes."
      ],
      "metadata": {
        "id": "Qrgapew6-q36"
      }
    },
    {
      "cell_type": "code",
      "source": [
        "class Car:\n",
        "    def __init__(self, brand, model):  # Constructor\n",
        "        self.brand = brand\n",
        "        self.model = model\n",
        "\n",
        "    def display(self):\n",
        "      print(f\"Car is {self.brand} and model {self.model}\")\n",
        "\n",
        "# Object creation\n",
        "car1 = Car(\"Scorpio\", \"S12\")\n",
        "car1.display()\n"
      ],
      "metadata": {
        "colab": {
          "base_uri": "https://localhost:8080/"
        },
        "id": "vDtix9CS_-1m",
        "outputId": "c5baf395-cb91-4844-8723-0fb715c30068"
      },
      "execution_count": null,
      "outputs": [
        {
          "output_type": "stream",
          "name": "stdout",
          "text": [
            "Car is Scorpio and model S12\n"
          ]
        }
      ]
    },
    {
      "cell_type": "markdown",
      "source": [
        "#Q10 What are class and static methods in Python?\n",
        "\n",
        "- In Python, class methods and static methods are special methods that are not tied to a specific object but to the class itself.\n",
        "\n",
        "**Class Method**\n",
        "- Defined using the @classmethod decorator.\n",
        "\n",
        "- Takes cls as the first parameter (refers to the class, not the object).\n",
        "\n",
        "- Can access or modify class variables, but cannot access instance variables.\n",
        "\n",
        "**Static Method**\n",
        "\n",
        "- Defined using the @staticmethod decorator.\n",
        "\n",
        "- Does not take self or cls as a parameter.\n",
        "\n",
        "- Cannot access instance or class variables directly.\n",
        "\n",
        "- Used for utility or helper functions related to the class.\n",
        "\n",
        "\n",
        "#Q11.What is method overloading in Python?\n",
        "\n",
        "- Method Overloading in Python is the ability to define multiple methods with the same name but different parameters (number or type) in the same class.However, Python does not support traditional method overloading like Java or C++.\n",
        "\n",
        "- If multiple methods with the same name are defined, the last one overrides the previous ones.\n",
        "\n",
        "- To achieve overloading, we can use default arguments or variable-length arguments (*args, **kwargs).\n",
        "\n",
        "\n",
        "#Q12 What is method overriding in OOP?\n",
        "\n",
        "- Method Overriding in OOP occurs when a child class provides its own implementation of a method that is already defined in its parent class.\n",
        "\n",
        "**Key Points:**\n",
        "\n",
        "- Allows runtime polymorphism.\n",
        "\n",
        "- The child class method overrides the parent class method with the same name, same parameters.\n",
        "\n",
        "- Enables custom behavior in the child class while reusing the parent’s structure.\n",
        "\n",
        "\n",
        "#Q13 What is a property decorator in Python?\n",
        "\n",
        "- A property decorator in Python is a built-in @property that allows you to access a method like an attribute.\n",
        "It is mainly used to control access to private variables and provide getter, setter, and deleter functionality in a clean way.\n",
        "\n",
        "**Key Points:**\n",
        "\n",
        "- @property makes a method behave like a read-only attribute.\n",
        "\n",
        "- Can define getter, setter, and deleter for controlled access.\n",
        "\n",
        "- Helps in encapsulation without changing how the variable is accessed.\n",
        "\n",
        "\n",
        "#Q14 Why is polymorphism important in OOP?\n",
        "\n",
        "-Polymorphism is important in OOP because it allows objects of different classes to be treated uniformly through a common interface.\n",
        "\n",
        "**Key Points:**\n",
        "\n",
        "-  Code Reusability: Same method name can be used for different object types.\n",
        "\n",
        "- Flexibility: Objects can behave differently while using the same method.\n",
        "\n",
        "- Simplifies Code: Reduces conditional statements for different object types.\n",
        "- Supports Runtime Polymorphism: Methods can be overridden in child classes to provide specific behavior.\n",
        "\n",
        "- Easier Maintenance & Extensibility: New classes can be added without changing existing code.\n",
        "\n",
        "#Q15 What is an abstract class in Python?\n",
        "\n",
        "- An abstract class in Python is a class that cannot be instantiated and is meant to be inherited by other classes.\n",
        "It is used to define a common interface for a group of subclasses.\n",
        "\n",
        "**Key Points:**\n",
        "\n",
        "- Created using the abc module and ABC class.\n",
        "\n",
        "- Can have abstract methods (declared but not implemented) and concrete methods (with implementation).\n",
        "\n",
        "- Ensures that subclasses implement the abstract methods.\n",
        "\n",
        "- Cannot create objects of an abstract class directly.\n",
        "\n",
        "\n",
        "#Q16 What are the advantages of OOP?\n",
        "                                                                       \n",
        "**Advantages of Object-Oriented Programming (OOP):**\n",
        "\n",
        "- Modularity: Code is organized into classes and objects, making it easir to manage and debug.\n",
        "\n",
        "- Reusability: Classes can be reused across programs using inheritance.\n",
        "\n",
        "- Encapsulation: Data and methods are bundled together, protecting internal data from unauthorized access.\n",
        "\n",
        "- Abstraction: Hides complex implementation details and shows only essential features.\n",
        "\n",
        "- Polymorphism: Same interface can be used for different object types, providing flexibility.\n",
        "\n",
        "- Maintainability: OOP code is easier to update and maintain due to modular structure.\n",
        "\n",
        "- Real-world modeling: Objects can represent real-world entities, making programs intuitive.\n",
        "\n",
        "- Extensibility: New features can be added with minimal changes to existing code\n",
        "\n"
      ],
      "metadata": {
        "id": "3MRWvlahA7u5"
      }
    },
    {
      "cell_type": "markdown",
      "source": [
        "#Q17 What is the difference between a class variable and an instance variable?\n",
        "\n",
        "- **Comparison of Class Variable vs Instance Variable** :\n",
        "\n",
        "**Definition**:\n",
        "\n",
        "   * Class Variable:\n",
        "     - Shared by all instances of the class.\n",
        "   * Instance Variable:\n",
        "      - Unique to each object/instance of the class.\n",
        "\n",
        "- **Declared**:\n",
        "\n",
        "   * **Class Variable**: Inside the class, **outside any method**.\n",
        "   * **Instance Variable**: Inside the **constructor (`__init__`)** or methods using `self`.\n",
        "\n",
        "3. **Access**:\n",
        "\n",
        "   * **Class Variable**: Accessed by **class name** or **object**.\n",
        "   * **Instance Variable**: Accessed only by the **object** using `self`.\n",
        "\n",
        "4. **Memory**:\n",
        "\n",
        "   * **Class Variable**: Stored **once** for all objects.\n",
        "   * **Instance Variable**: Each object has its **own copy**.\n",
        "\n",
        "5. **Use Case**:\n",
        "\n",
        "   * **Class Variable**: To store **common properties** for all objects.\n",
        "   * **Instance Variable**: To store **object-specific propert"
      ],
      "metadata": {
        "id": "hYj8QcxsK6u2"
      }
    },
    {
      "cell_type": "markdown",
      "source": [
        "#Q18 What is multiple inheritance in Python?\n",
        "\n",
        "- Multiple Inheritance in Python is a feature where a child class can inherit from more than one parent class.\n",
        "\n",
        "**Key Points:**\n",
        "\n",
        "  - Allows a class to reuse attributes and methods from multiple parent classes.\n",
        "  - Helps in combining functionalities from different classes.\n",
        "  - Method Resolution Order (MRO) decides which parent’s method is called if multiple parents have the same method.\n",
        "\n",
        "#Q19.Explain the purpose of ‘’str’ and ‘repr’ ‘ methods in Python?\n",
        "\n",
        "- In Python, `__str__` and `__repr__` are **dunder (magic) methods** used to define the **string representation** of an object.\n",
        "\n",
        "**`__str__`**\n",
        "\n",
        "- Purpose: Returns a user-friendly, readable string representation of an object.\n",
        "- Used by the print() function and str().\n",
        "- Goal: Make the object understandable for end users.\n",
        "\n",
        "**`__repr__`**\n",
        "\n",
        "* Purpose: Returns an **unambiguous string** representation of an object, meant for **developers/debugging**.\n",
        "* Should ideally be **valid Python code** to recreate the object.\n",
        "* Used by **`repr()`** and in the **interactive interpreter**.\n"
      ],
      "metadata": {
        "id": "7f6W4zzBm3Gs"
      }
    },
    {
      "cell_type": "code",
      "source": [
        "# __str__ example\n",
        "class Car:\n",
        "    def __init__(self, brand, model):\n",
        "        self.brand = brand\n",
        "        self.model = model\n",
        "\n",
        "    def __str__(self):\n",
        "        return f\"{self.brand} {self.model}\"\n",
        "\n",
        "car = Car(\"Tesla\", \"Model X\")\n",
        "print(car)"
      ],
      "metadata": {
        "colab": {
          "base_uri": "https://localhost:8080/"
        },
        "id": "cPS5IuYxou0X",
        "outputId": "27ed8be1-2b19-497b-eec7-1e305dda87ae"
      },
      "execution_count": 1,
      "outputs": [
        {
          "output_type": "stream",
          "name": "stdout",
          "text": [
            "Tesla Model X\n"
          ]
        }
      ]
    },
    {
      "cell_type": "code",
      "source": [
        "#__repr__ example\n",
        "\n",
        "class Car:\n",
        "    def __init__(self, brand, model):\n",
        "        self.brand = brand\n",
        "        self.model = model\n",
        "\n",
        "    def __repr__(self):\n",
        "        return f\"Car is {self.brand} and model {self.model}\"\n",
        "\n",
        "car = Car(\"Tesla\", \"X\")\n",
        "print(repr(car))"
      ],
      "metadata": {
        "colab": {
          "base_uri": "https://localhost:8080/"
        },
        "id": "cczUnv14pB3w",
        "outputId": "ba96b45d-bd1d-4255-a68a-62d0d9b86c71"
      },
      "execution_count": 5,
      "outputs": [
        {
          "output_type": "stream",
          "name": "stdout",
          "text": [
            "Car is Tesla and model X\n"
          ]
        }
      ]
    },
    {
      "cell_type": "markdown",
      "source": [],
      "metadata": {
        "id": "nvu7v_KsosuD"
      }
    },
    {
      "cell_type": "markdown",
      "source": [
        "#Q20.What is the significance of the ‘super()’ function in Python?\n",
        "\n",
        "- The super() function in Python is used to call methods from a parent (superclass) inside a child (subclass).\n",
        "\n",
        "**Significance of super()**\n",
        "\n",
        "- Access Parent Class Methods → Calls the parent class’s constructor (__init__) or other methods without explicitly naming the parent.\n",
        "\n",
        "- Code Reusability → Avoids rewriting parent code in the child class.\n",
        "\n",
        "- Supports Multiple Inheritance → Ensures the correct Method Resolution Order (MRO) is followed when multiple parents exist.\n",
        "\n",
        "- Clean & Maintainable Code → If the parent class name changes, super() still works.\n",
        "\n",
        "\n",
        "#Q21.What is the significance of the `__del__` method in Python?\n",
        "\n",
        "- The `__del__` method in Python is a destructor method, which is called automatically when an object is about to be destroyed (i.e., when it is no longer referenced in memory).\n",
        "\n",
        "**Significance of `__del__`:**\n",
        "\n",
        "- Resource Cleanup → Used to release resources like closing files, network connections, or database connections before the object is deleted.\n",
        "\n",
        "- Finalization → Provides a way to define custom cleanup behavior when an object’s life ends.\n",
        "\n",
        "- Garbage Collection Support → Called automatically by Python’s garbage collector when an object’s reference count becomes zero.\n",
        "\n",
        "\n",
        "\n",
        "#Q22.What is the difference between @staticmethod and @classmethod in Python?\n",
        "\n",
        "Difference between @staticmethod and @classmethod in Python\n",
        "\n",
        "**Definition:**\n",
        "  - Classmethod:\n",
        "     - Bound to class, takes cls\n",
        "  \n",
        "  - Staticmethod:-\n",
        "     - Bound to class, no self or cls\n",
        "\n",
        "**First Argument:**\n",
        " - Classmethod:-\n",
        "    - cls (class reference)\n",
        " - Staticmethod\n",
        "     - No default argument\n",
        "\n",
        "**Access:**\n",
        " - Classmethod\n",
        "     - Can access/modify class variables\n",
        " - Staticmethod\n",
        "     - Cannot access class or instance variables\n",
        "\n",
        "**Usage:**\n",
        "  - Classmethod\n",
        "     - When you need to work with the class state\n",
        "  - Staticmethod\n",
        "    - When logic is independent of class and object\n",
        "\n",
        "**Calling:**\n",
        "- Both can be called via ClassName.method() or object.method()\n",
        "\n",
        "#Q23 How does polymorphism work in Python with inheritance?\n",
        "\n",
        "**Polymorphism with Inheritance in Python**\n",
        "\n",
        "- Polymorphism means **same method name but different behavior** depending on the object calling it.\n",
        "With **inheritance**, a child class can **override** methods of the parent class, and Python decides at runtime which method to call.\n",
        "\n",
        "**How it works:**\n",
        "\n",
        "- **Parent class defines a method**\n",
        "- **Child class overrides (redefines) the same method**\n",
        "- **When called through an object**, Python runs the version depending on the object type (runtime polymorphism).\n",
        "\n",
        "\n",
        "#Q24.What is method chaining in Python OOP?\n",
        "\n",
        "\n",
        "**Method Chaining in Python OOP**\n",
        "\n",
        "- **Definition:**\n",
        "Method chaining is a technique where you call **multiple methods on the same object in a single line**, because each method **returns the object itself (`self`)**.\n",
        "\n",
        "**How it works:**\n",
        "\n",
        "* Each method in the class returns `self` instead of some other value.\n",
        "* This allows calls to be **chained together**\n",
        "\n",
        "#Q25.What is the purpose of the __call__ method in Python?\n",
        "\n",
        "**`__call__` method in Python**\n",
        "\n",
        "\n",
        "**Definition:**\n",
        "The `__call__` method makes an **object behave like a function**.\n",
        "If a class defines `__call__`, its instances can be called using `object()` syntax, just like a function.\n",
        "\n",
        "**Purpose:**\n",
        "\n",
        "- To allow objects to be invoked like functions\n",
        "- Useful for **wrapping logic**, **callbacks**, **decorators**, or function-like classes"
      ],
      "metadata": {
        "id": "eC06xGVDqBEe"
      }
    },
    {
      "cell_type": "markdown",
      "source": [
        "#**Practical Questions**"
      ],
      "metadata": {
        "id": "0TXEDwDqvEg_"
      }
    },
    {
      "cell_type": "code",
      "source": [
        "'''\n",
        "1. Create a parent class Animal with a method speak() that prints a generic message. Create a child class Dog\n",
        "that overrides the speak() method to print \"Bark!\".\n",
        "'''\n",
        "class Animal:\n",
        "    def speak(self):\n",
        "        print(\"Animal is speaking\")\n",
        "\n",
        "class Dog(Animal):\n",
        "    def speak(self):\n",
        "        print(\"Bark!\")\n",
        "\n",
        "dog = Dog()\n",
        "dog.speak()\n"
      ],
      "metadata": {
        "colab": {
          "base_uri": "https://localhost:8080/"
        },
        "id": "B3TvfktQvv1z",
        "outputId": "f86642b3-89aa-4418-b537-3cf298a7b71e"
      },
      "execution_count": 6,
      "outputs": [
        {
          "output_type": "stream",
          "name": "stdout",
          "text": [
            "Bark!\n"
          ]
        }
      ]
    },
    {
      "cell_type": "code",
      "source": [
        "'''\n",
        "Q2. Write a program to create an abstract class Shape with a method area(). Derive classes Circle and Rectangle\n",
        "from it and implement the area() method in both.\n",
        "'''\n",
        "from abc import ABC, abstractmethod\n",
        "class Shape:\n",
        "  @abstractmethod\n",
        "  def area(self):\n",
        "    pass\n",
        "class Circle(Shape):\n",
        "  def area(self,radius):\n",
        "    return 2.14*(radius**2)\n",
        "class Rectangle(Shape):\n",
        "  def area(self,l,b):\n",
        "    return l*b\n",
        "\n",
        "obj1=Circle()\n",
        "obj2=Rectangle()\n",
        "\n",
        "print(\"Area of circle with radius 4 :\",obj1.area(4))\n",
        "print(\"Area of rectangle with sides (3,4) :\",obj2.area(3,4))\n"
      ],
      "metadata": {
        "colab": {
          "base_uri": "https://localhost:8080/"
        },
        "id": "8plgkJjWx3TL",
        "outputId": "702715f2-5e6d-46ff-c50f-afb6af098673"
      },
      "execution_count": 9,
      "outputs": [
        {
          "output_type": "stream",
          "name": "stdout",
          "text": [
            "Area of circle with radius 4 : 34.24\n",
            "Area of rectangle with sides (3,4) : 12\n"
          ]
        }
      ]
    },
    {
      "cell_type": "code",
      "source": [
        "'''\n",
        "Q3 Implement a multi-level inheritance scenario where a class Vehicle has an attribute type. Derive a class Car\n",
        "and further derive a class ElectricCar that adds a battery attribute.\n",
        "'''\n",
        "class Vehicle:\n",
        "  def start(self):\n",
        "    return \"It is starting\"\n",
        "class Car(Vehicle):\n",
        "  def engine(self):\n",
        "    return \"Enginee started\"\n",
        "class Automatic_Car(Car):\n",
        "  def move(self):\n",
        "    return \"the car is moving\"\n",
        "\n",
        "obj1=Car()\n",
        "obj2=Automatic_Car()\n",
        "print(obj1.start())\n",
        "print(obj1.engine())\n",
        "print(obj2.start())\n",
        "print(obj2.engine())\n",
        "print(obj2.move())"
      ],
      "metadata": {
        "colab": {
          "base_uri": "https://localhost:8080/"
        },
        "id": "viRp30AzytjM",
        "outputId": "b512c877-ecde-438d-e442-dc8730daa2f7"
      },
      "execution_count": 11,
      "outputs": [
        {
          "output_type": "stream",
          "name": "stdout",
          "text": [
            "It is starting\n",
            "Enginee started\n",
            "It is starting\n",
            "Enginee started\n",
            "the car is moving\n"
          ]
        }
      ]
    },
    {
      "cell_type": "code",
      "source": [
        "'''\n",
        "q4. Demonstrate polymorphism by creating a base class Bird with a method fly(). Create two derived classes\n",
        "Sparrow and Penguin that override the fly() method.\n",
        "'''\n",
        "class Bird:\n",
        "  def fly(self):\n",
        "    return(\"Birds can fly\")\n",
        "class Sparrow(Bird):\n",
        "  def fly(self):\n",
        "    return(\"Sparrows can fly\")\n",
        "class Penguin(Bird):\n",
        "  def fly(self):\n",
        "    return(\"Penguins cannot fly\")\n",
        "\n",
        "obj1=Bird()\n",
        "obj2 =Sparrow()\n",
        "obj3=Penguin()\n",
        "\n",
        "print(obj1.fly())\n",
        "print(obj2.fly())\n",
        "print(obj3.fly())"
      ],
      "metadata": {
        "colab": {
          "base_uri": "https://localhost:8080/"
        },
        "id": "Zjt1zwDnzjbu",
        "outputId": "c9ae3860-fd70-4e12-d9ca-2591f62cb725"
      },
      "execution_count": 19,
      "outputs": [
        {
          "output_type": "stream",
          "name": "stdout",
          "text": [
            "Birds can fly\n",
            "Sparrows can fly\n",
            "Penguins cannot fly\n"
          ]
        }
      ]
    },
    {
      "cell_type": "code",
      "source": [
        "'''\n",
        "5. Write a program to demonstrate encapsulation by creating a class BankAccount with private attributes\n",
        "balance and methods to deposit, withdraw, and check balance\n",
        "'''\n",
        "class BankAccount:\n",
        "    def __init__(self, balance=0):\n",
        "        self.__balance = balance   # private attribute\n",
        "\n",
        "    # Deposit method\n",
        "    def deposit(self, amount):\n",
        "        if amount > 0:\n",
        "            self.__balance += amount\n",
        "            print(f\"{amount} deposited successfully\")\n",
        "        else:\n",
        "            print(\"Invalid deposit amount\")\n",
        "\n",
        "    # Withdraw method\n",
        "    def withdraw(self, amount):\n",
        "        if 0 < amount <= self.__balance:\n",
        "            self.__balance -= amount\n",
        "            print(f\"{amount} withdrawn successfully\")\n",
        "        else:\n",
        "            print(\"Insufficient balance or invalid amount\")\n",
        "\n",
        "    # Check balance method\n",
        "    def check_balance(self):\n",
        "        print(f\"Current Balance: {self.__balance}\")\n",
        "\n",
        "# Demonstration\n",
        "account = BankAccount(1000)   # initial balance 1000\n",
        "account.deposit(600)\n",
        "account.withdraw(200)\n",
        "account.check_balance()"
      ],
      "metadata": {
        "colab": {
          "base_uri": "https://localhost:8080/"
        },
        "id": "8lpxDZJH0ruk",
        "outputId": "d455b97d-bd77-4a64-9ba4-70a9d0a9d19c"
      },
      "execution_count": 24,
      "outputs": [
        {
          "output_type": "stream",
          "name": "stdout",
          "text": [
            "600 deposited successfully\n",
            "200 withdrawn successfully\n",
            "Current Balance: 1400\n"
          ]
        }
      ]
    },
    {
      "cell_type": "code",
      "source": [
        "'''6. Demonstrate runtime polymorphism using a method play() in a base class\n",
        "Instrument. Derive classes Guitar and Piano that implement their own version\n",
        "of play().'''\n",
        "\n",
        "class Instrument():\n",
        "  def play(self):\n",
        "    return \"Intrument playing \"\n",
        "class Guitar(Instrument):\n",
        "  def play(self):\n",
        "    return \"Guitar is playing\"\n",
        "class Piano(Instrument):\n",
        "  def play(self):\n",
        "    return \"Piano is playing\"\n",
        "\n",
        "inst=[Instrument(),Guitar(),Piano()]\n",
        "\n",
        "for i in inst:\n",
        "  print(i.play())"
      ],
      "metadata": {
        "colab": {
          "base_uri": "https://localhost:8080/"
        },
        "id": "QISeL6IK1kzf",
        "outputId": "d6c5e371-200d-46df-c39a-1ae8f9bed8e4"
      },
      "execution_count": 25,
      "outputs": [
        {
          "output_type": "stream",
          "name": "stdout",
          "text": [
            "Intrument playing \n",
            "Guitar is playing\n",
            "Piano is playing\n"
          ]
        }
      ]
    },
    {
      "cell_type": "code",
      "source": [
        "'''7. Create a class MathOperations with a class method add_numbers() to add\n",
        "two numbers and a static method subtract_numbers() to subtract two numbers.'''\n",
        "\n",
        "class MathOperations:\n",
        "  @classmethod\n",
        "  def add_numbers(cls,*args):\n",
        "    return sum(args)\n",
        "  @staticmethod\n",
        "  def subtract_numbers(num1,num2):\n",
        "    return num1-num2\n",
        "\n",
        "print(\"Class Add numbers (6,5)\",MathOperations.add_numbers(6,5))\n",
        "print(\"Static subtract numbers (6,4)\",MathOperations.subtract_numbers(6,4))"
      ],
      "metadata": {
        "colab": {
          "base_uri": "https://localhost:8080/"
        },
        "id": "pFl0vsFp10_l",
        "outputId": "5e06d1ca-f448-4dab-b133-0510bb12d4d2"
      },
      "execution_count": 28,
      "outputs": [
        {
          "output_type": "stream",
          "name": "stdout",
          "text": [
            "Class Add numbers (6,5) 11\n",
            "Static subtract numbers (6,4) 2\n"
          ]
        }
      ]
    },
    {
      "cell_type": "code",
      "source": [
        "'''8. Implement a class Person with a class method to count the total number of\n",
        "persons created.'''\n",
        "\n",
        "class Person:\n",
        "    count = 0\n",
        "    def __init__(self, name):\n",
        "        self.name = name\n",
        "        Person.count += 1\n",
        "    @classmethod\n",
        "    def total_persons(cls):\n",
        "        return f\"Total Persons created: {cls.count}\"\n",
        "\n",
        "p1 = Person(\"Rajat\")\n",
        "p2 = Person(\"Rohit\")\n",
        "p3 = Person(\"Tanu\")\n",
        "\n",
        "\n",
        "print(Person.total_persons())\n"
      ],
      "metadata": {
        "colab": {
          "base_uri": "https://localhost:8080/"
        },
        "id": "taZ24H-x2Fzi",
        "outputId": "016fc742-da1b-4d7c-a052-7b28f31da2ea"
      },
      "execution_count": 29,
      "outputs": [
        {
          "output_type": "stream",
          "name": "stdout",
          "text": [
            "Total Persons created: 3\n"
          ]
        }
      ]
    },
    {
      "cell_type": "code",
      "source": [
        "'''9. Write a class Fraction with attributes numerator and denominator.\n",
        "Override the str method to display the fraction as \"numerator/denominator\".'''\n",
        "\n",
        "class Fraction:\n",
        "  def __init__(self,denominator,numerator):\n",
        "    self.denominator=denominator\n",
        "    self.numerator=numerator\n",
        "  def __str__(self):\n",
        "    return f\"{self.numerator}/{self.denominator}\"\n",
        "\n",
        "f1 = Fraction(9, 4)\n",
        "f2 = Fraction(8, 2)\n",
        "\n",
        "print(f1)\n",
        "print(f2)\n",
        "\n"
      ],
      "metadata": {
        "colab": {
          "base_uri": "https://localhost:8080/"
        },
        "id": "pq8-XZWm2aU2",
        "outputId": "83ca6ee5-3eb3-49f8-bc52-091a6c028a97"
      },
      "execution_count": 30,
      "outputs": [
        {
          "output_type": "stream",
          "name": "stdout",
          "text": [
            "4/9\n",
            "2/8\n"
          ]
        }
      ]
    },
    {
      "cell_type": "code",
      "source": [
        "'''10 Demonstrate operator overloading by creating a class Vector and overriding\n",
        " the add method to add two vectors'''\n",
        "\n",
        "class Vector:\n",
        "    def __init__(self, x, y):\n",
        "        self.x = x\n",
        "        self.y = y\n",
        "\n",
        "    # Overload the + operator\n",
        "    def __add__(self, other):\n",
        "        return Vector(self.x + other.x, self.y + other.y)\n",
        "\n",
        "    # Overload str to display the vector nicely\n",
        "    def __str__(self):\n",
        "        return f\"({self.x}, {self.y})\"\n",
        "\n",
        "\n",
        "v1 = Vector(9, 3)\n",
        "v2 = Vector(6, 4)\n",
        "\n",
        "v3 = v1 + v2  # Calls v1.__add__(v2)\n",
        "print(v3)  # Output: (15, 7)"
      ],
      "metadata": {
        "colab": {
          "base_uri": "https://localhost:8080/"
        },
        "id": "6Lj-frTr2soX",
        "outputId": "df0ca65e-e3ac-4be3-bf16-ad57fdf67b3f"
      },
      "execution_count": 32,
      "outputs": [
        {
          "output_type": "stream",
          "name": "stdout",
          "text": [
            "(15, 7)\n"
          ]
        }
      ]
    },
    {
      "cell_type": "code",
      "source": [
        "'''Q11. Create a class Person with attributes name and age. Add a method greet()\n",
        "that prints \"Hello, my name is {name} and I am {age} years old.\"'''\n",
        "\n",
        "class Person:\n",
        "  def __init__(self,name,age):\n",
        "    self.name=name\n",
        "    self.age=age\n",
        "  def greet(self):\n",
        "   return f\"Hello, my name is {self.name} and I am {self.age} years old.\"\n",
        "\n",
        "p=Person('Rajat',29)\n",
        "\n",
        "print(p.greet())"
      ],
      "metadata": {
        "colab": {
          "base_uri": "https://localhost:8080/"
        },
        "id": "vXcMvn9o2_Zb",
        "outputId": "efb5d7bf-7ae8-4859-9ec6-9d7361fe5d6f"
      },
      "execution_count": 33,
      "outputs": [
        {
          "output_type": "stream",
          "name": "stdout",
          "text": [
            "Hello, my name is Rajat and I am 29 years old.\n"
          ]
        }
      ]
    },
    {
      "cell_type": "code",
      "source": [
        "'''Q12. Implement a class Student with attributes name and grades.\n",
        "Create a method average_grade() to compute the average of the grades.'''\n",
        "\n",
        "class Student:\n",
        "  def __init__(self,name,grades):\n",
        "    self.name=name\n",
        "    self.grades=grades\n",
        "  def avg_grade(self):\n",
        "    if len(self.grades)==0:\n",
        "      return 0\n",
        "    return sum(self.grades)/len(self.grades)\n",
        "\n",
        "s=Student(\"Rajat\", [65, 98, 88, 91])\n",
        "print(\"Student Name:\", s.name)\n",
        "print(\"Average Grade:\", s.avg_grade())"
      ],
      "metadata": {
        "colab": {
          "base_uri": "https://localhost:8080/"
        },
        "id": "Fy0jTqjS3SD5",
        "outputId": "e8d29fd7-8578-4592-d207-54274bba2894"
      },
      "execution_count": 36,
      "outputs": [
        {
          "output_type": "stream",
          "name": "stdout",
          "text": [
            "Student Name: Rajat\n",
            "Average Grade: 85.5\n"
          ]
        }
      ]
    },
    {
      "cell_type": "code",
      "source": [
        "'''13. Create a class Rectangle with methods set_dimensions() to set the\n",
        "dimensions and area() to calculate the area.'''\n",
        "\n",
        "class Rectangle:\n",
        "    def __init__(self):\n",
        "        self.length = 0\n",
        "        self.width = 0\n",
        "\n",
        "    def set_dimensions(self, length, width):\n",
        "        self.length = length\n",
        "        self.width = width\n",
        "\n",
        "    def area(self):\n",
        "        return self.length * self.width\n",
        "\n",
        "r1 = Rectangle()\n",
        "r1.set_dimensions(10, 8)\n",
        "print(\"Length:\", r1.length)\n",
        "print(\"Width:\", r1.width)\n",
        "print(\"Area of Rectangle:\", r1.area())\n"
      ],
      "metadata": {
        "colab": {
          "base_uri": "https://localhost:8080/"
        },
        "id": "_XkF9cCH3wG8",
        "outputId": "126e840a-1e24-473c-bfbd-950ce5a1a970"
      },
      "execution_count": 38,
      "outputs": [
        {
          "output_type": "stream",
          "name": "stdout",
          "text": [
            "Length: 10\n",
            "Width: 8\n",
            "Area of Rectangle: 80\n"
          ]
        }
      ]
    },
    {
      "cell_type": "code",
      "source": [
        "'''14. Create a class Employee with a method calculate_salary() that computes\n",
        "the salary based on hours worked and hourly rate. Create a derived class Manager\n",
        " that adds a bonus to the salary.'''\n",
        "\n",
        "class Employee:\n",
        "    def __init__(self, name, hours_worked, hourly_rate):\n",
        "        self.name = name\n",
        "        self.hours_worked = hours_worked\n",
        "        self.hourly_rate = hourly_rate\n",
        "\n",
        "    def calculate_salary(self):\n",
        "        return self.hours_worked * self.hourly_rate\n",
        "\n",
        "\n",
        "class Manager(Employee):\n",
        "    def __init__(self, name, hours_worked, hourly_rate, bonus):\n",
        "        super().__init__(name, hours_worked, hourly_rate)\n",
        "        self.bonus = bonus\n",
        "\n",
        "    def calculate_salary(self):\n",
        "        base_salary = super().calculate_salary()\n",
        "        return base_salary + self.bonus\n",
        "\n",
        "\n",
        "\n",
        "emp1 = Employee(\"Rajat\", 90, 200)\n",
        "mgr1 = Manager(\"Tanya\", 40, 600, 9000)\n",
        "\n",
        "print(f\"Employee {emp1.name} Salary: {emp1.calculate_salary()}\")\n",
        "print(f\"Manager {mgr1.name} Salary: {mgr1.calculate_salary()}\")"
      ],
      "metadata": {
        "colab": {
          "base_uri": "https://localhost:8080/"
        },
        "id": "CHgWbSzc3-o1",
        "outputId": "4315f7a5-8622-4eb5-86b2-6b13a5108575"
      },
      "execution_count": 43,
      "outputs": [
        {
          "output_type": "stream",
          "name": "stdout",
          "text": [
            "Employee Rajat Salary: 18000\n",
            "Manager Tanya Salary: 33000\n"
          ]
        }
      ]
    },
    {
      "cell_type": "code",
      "source": [
        "'''15. Create a class Product with attributes name, price, and quantity.\n",
        "Implement a method total_price() that calculates the total price of the product.'''\n",
        "\n",
        "class Product:\n",
        "    def __init__(self, name, price, quantity):\n",
        "        self.name = name\n",
        "        self.price = price\n",
        "        self.quantity = quantity\n",
        "\n",
        "    def total_price(self):\n",
        "        return self.price * self.quantity\n",
        "\n",
        "\n",
        "# Example usage\n",
        "p1 = Product(\"Laptop\", 50000, 2)\n",
        "p2 = Product(\"Mobile\", 15000, 3)\n",
        "\n",
        "print(f\"Product: {p1.name}, Total Price: {p1.total_price()}\")\n",
        "print(f\"Product: {p2.name}, Total Price: {p2.total_price()}\")"
      ],
      "metadata": {
        "colab": {
          "base_uri": "https://localhost:8080/"
        },
        "id": "4ncsmdPk5GuX",
        "outputId": "11f4803f-3cdf-412b-ff1f-f19431c343b7"
      },
      "execution_count": 44,
      "outputs": [
        {
          "output_type": "stream",
          "name": "stdout",
          "text": [
            "Product: Laptop, Total Price: 100000\n",
            "Product: Mobile, Total Price: 45000\n"
          ]
        }
      ]
    },
    {
      "cell_type": "code",
      "source": [
        "'''16. Create a class Animal with an abstract method sound(). Create two derived\n",
        " classes Cow and Sheep that implement the sound() method.'''\n",
        "\n",
        "from abc import ABC, abstractmethod\n",
        "\n",
        "class Animal(ABC):   # Abstract class\n",
        "    @abstractmethod\n",
        "    def sound(self):\n",
        "        pass\n",
        "\n",
        "class Dog(Animal):\n",
        "    def sound(self):\n",
        "        return \"bhaw\"\n",
        "\n",
        "class Sheep(Animal):\n",
        "    def sound(self):\n",
        "        return \"Baa\"\n",
        "\n",
        "dog = Dog()\n",
        "sheep = Sheep()\n",
        "\n",
        "print(\"Dog Sound:\", dog.sound())\n",
        "print(\"Sheep Sound:\", sheep.sound())\n"
      ],
      "metadata": {
        "colab": {
          "base_uri": "https://localhost:8080/"
        },
        "id": "jqc2buQw5Vie",
        "outputId": "cd69fd83-51c1-4896-cefa-1e8e2e9d54d2"
      },
      "execution_count": 52,
      "outputs": [
        {
          "output_type": "stream",
          "name": "stdout",
          "text": [
            "Dog Sound: bhaw\n",
            "Sheep Sound: Baa\n"
          ]
        }
      ]
    },
    {
      "cell_type": "code",
      "source": [
        "'''17. Create a class Book with attributes title, author, and year_published.\n",
        "Add a method get_book_info() that returns a formatted string with the book's\n",
        "details.'''\n",
        "\n",
        "class Book:\n",
        "    def __init__(self, title, author, year_published):\n",
        "        self.title = title\n",
        "        self.author = author\n",
        "        self.year_published = year_published\n",
        "\n",
        "    def get_book_info(self):\n",
        "        return f\"'{self.title}' by {self.author}, published in {self.year_published}\"\n",
        "\n",
        "\n",
        "b1 = Book(\"The Alchemist\", \"Paulo Coelho\", 1988)\n",
        "b2 = Book(\"Python Crash Course\", \"Eric Matthes\", 2015)\n",
        "\n",
        "print(b1.get_book_info())\n",
        "print(b2.get_book_info())\n"
      ],
      "metadata": {
        "colab": {
          "base_uri": "https://localhost:8080/"
        },
        "id": "RM25VTY66pH6",
        "outputId": "5af1495c-429f-4b5a-eb35-e3e009b33c7e"
      },
      "execution_count": 56,
      "outputs": [
        {
          "output_type": "stream",
          "name": "stdout",
          "text": [
            "'The Alchemist' by Paulo Coelho, published in 1988\n",
            "'Python Crash Course' by Eric Matthes, published in 2015\n"
          ]
        }
      ]
    },
    {
      "cell_type": "code",
      "source": [
        "'''18. Create a class House with attributes address and price. Create a\n",
        " derived class Mansion that adds an attribute number_of_rooms.'''\n",
        "\n",
        "class House:\n",
        "    def __init__(self, address, price):\n",
        "        self.address = address\n",
        "        self.price = price\n",
        "\n",
        "    def get_info(self):\n",
        "        return f\"House located at {self.address}, Price: ₹{self.price}\"\n",
        "\n",
        "\n",
        "class Mansion(House):\n",
        "    def __init__(self, address, price, number_of_rooms):\n",
        "        super().__init__(address, price)\n",
        "        self.number_of_rooms = number_of_rooms\n",
        "\n",
        "    def get_info(self):\n",
        "        return f\"Mansion located at {self.address}, Price: ₹{self.price}, Rooms: {self.number_of_rooms}\"\n",
        "\n",
        "h1 = House(\"124/4 land road \", 15000000)\n",
        "m1 = Mansion(\"45/5 The House of Royal\", 120000000, 15)\n",
        "\n",
        "print(h1.get_info())\n",
        "print(m1.get_info())\n"
      ],
      "metadata": {
        "colab": {
          "base_uri": "https://localhost:8080/"
        },
        "id": "nEdHG7qo7IuY",
        "outputId": "b1d56bab-90bb-41e5-861c-2f3be03e9602"
      },
      "execution_count": 58,
      "outputs": [
        {
          "output_type": "stream",
          "name": "stdout",
          "text": [
            "House located at 124/4 land road , Price: ₹15000000\n",
            "Mansion located at 45/5 The House of Royal, Price: ₹120000000, Rooms: 15\n"
          ]
        }
      ]
    }
  ]
}